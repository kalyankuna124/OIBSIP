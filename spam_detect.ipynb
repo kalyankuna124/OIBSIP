{
  "cells": [
    {
      "cell_type": "markdown",
      "metadata": {
        "id": "view-in-github",
        "colab_type": "text"
      },
      "source": [
        "<a href=\"https://colab.research.google.com/github/kalyankuna124/OIBSIP/blob/main/spam_detect.ipynb\" target=\"_parent\"><img src=\"https://colab.research.google.com/assets/colab-badge.svg\" alt=\"Open In Colab\"/></a>"
      ]
    },
    {
      "cell_type": "code",
      "source": [
        "from google.colab import drive\n",
        "drive.mount(\"/content/drive\")"
      ],
      "metadata": {
        "colab": {
          "base_uri": "https://localhost:8080/"
        },
        "id": "zrhLrILoW1Jr",
        "outputId": "1b2992ef-52b3-4b2f-aa2a-5bcdaa952d95"
      },
      "id": "zrhLrILoW1Jr",
      "execution_count": null,
      "outputs": [
        {
          "output_type": "stream",
          "name": "stdout",
          "text": [
            "Drive already mounted at /content/drive; to attempt to forcibly remount, call drive.mount(\"/content/drive\", force_remount=True).\n"
          ]
        }
      ]
    },
    {
      "cell_type": "code",
      "execution_count": null,
      "id": "694f416d",
      "metadata": {
        "_cell_guid": "b1076dfc-b9ad-4769-8c92-a6c4dae69d19",
        "_uuid": "8f2839f25d086af736a60e9eeb907d3b93b6e0e5",
        "execution": {
          "iopub.execute_input": "2023-03-04T05:05:33.253447Z",
          "iopub.status.busy": "2023-03-04T05:05:33.252518Z",
          "iopub.status.idle": "2023-03-04T05:05:33.270137Z",
          "shell.execute_reply": "2023-03-04T05:05:33.268930Z"
        },
        "papermill": {
          "duration": 0.027425,
          "end_time": "2023-03-04T05:05:33.272792",
          "exception": false,
          "start_time": "2023-03-04T05:05:33.245367",
          "status": "completed"
        },
        "tags": [],
        "id": "694f416d"
      },
      "outputs": [],
      "source": [
        "\n",
        "\n",
        "import numpy as np\n",
        "import pandas as pd \n",
        "\n",
        "\n",
        "import os\n",
        "for dirname, _, filenames in os.walk('/kaggle/input'):\n",
        "    for filename in filenames:\n",
        "        print(os.path.join(dirname, filename))\n",
        "\n"
      ]
    },
    {
      "cell_type": "code",
      "execution_count": null,
      "id": "19b9f580",
      "metadata": {
        "execution": {
          "iopub.execute_input": "2023-03-04T05:05:33.282643Z",
          "iopub.status.busy": "2023-03-04T05:05:33.281920Z",
          "iopub.status.idle": "2023-03-04T05:05:33.324796Z",
          "shell.execute_reply": "2023-03-04T05:05:33.323609Z"
        },
        "papermill": {
          "duration": 0.050352,
          "end_time": "2023-03-04T05:05:33.327325",
          "exception": false,
          "start_time": "2023-03-04T05:05:33.276973",
          "status": "completed"
        },
        "tags": [],
        "colab": {
          "base_uri": "https://localhost:8080/",
          "height": 206
        },
        "id": "19b9f580",
        "outputId": "8d4ce0c4-60b4-498c-9b21-854092d10c5e"
      },
      "outputs": [
        {
          "output_type": "execute_result",
          "data": {
            "text/plain": [
              "     v1                                                 v2\n",
              "0   ham  Go until jurong point, crazy.. Available only ...\n",
              "1   ham                      Ok lar... Joking wif u oni...\n",
              "2  spam  Free entry in 2 a wkly comp to win FA Cup fina...\n",
              "3   ham  U dun say so early hor... U c already then say...\n",
              "4   ham  Nah I don't think he goes to usf, he lives aro..."
            ],
            "text/html": [
              "\n",
              "  <div id=\"df-d95a89ba-7ad6-4a8c-91d1-0adbedda5b4d\">\n",
              "    <div class=\"colab-df-container\">\n",
              "      <div>\n",
              "<style scoped>\n",
              "    .dataframe tbody tr th:only-of-type {\n",
              "        vertical-align: middle;\n",
              "    }\n",
              "\n",
              "    .dataframe tbody tr th {\n",
              "        vertical-align: top;\n",
              "    }\n",
              "\n",
              "    .dataframe thead th {\n",
              "        text-align: right;\n",
              "    }\n",
              "</style>\n",
              "<table border=\"1\" class=\"dataframe\">\n",
              "  <thead>\n",
              "    <tr style=\"text-align: right;\">\n",
              "      <th></th>\n",
              "      <th>v1</th>\n",
              "      <th>v2</th>\n",
              "    </tr>\n",
              "  </thead>\n",
              "  <tbody>\n",
              "    <tr>\n",
              "      <th>0</th>\n",
              "      <td>ham</td>\n",
              "      <td>Go until jurong point, crazy.. Available only ...</td>\n",
              "    </tr>\n",
              "    <tr>\n",
              "      <th>1</th>\n",
              "      <td>ham</td>\n",
              "      <td>Ok lar... Joking wif u oni...</td>\n",
              "    </tr>\n",
              "    <tr>\n",
              "      <th>2</th>\n",
              "      <td>spam</td>\n",
              "      <td>Free entry in 2 a wkly comp to win FA Cup fina...</td>\n",
              "    </tr>\n",
              "    <tr>\n",
              "      <th>3</th>\n",
              "      <td>ham</td>\n",
              "      <td>U dun say so early hor... U c already then say...</td>\n",
              "    </tr>\n",
              "    <tr>\n",
              "      <th>4</th>\n",
              "      <td>ham</td>\n",
              "      <td>Nah I don't think he goes to usf, he lives aro...</td>\n",
              "    </tr>\n",
              "  </tbody>\n",
              "</table>\n",
              "</div>\n",
              "      <button class=\"colab-df-convert\" onclick=\"convertToInteractive('df-d95a89ba-7ad6-4a8c-91d1-0adbedda5b4d')\"\n",
              "              title=\"Convert this dataframe to an interactive table.\"\n",
              "              style=\"display:none;\">\n",
              "        \n",
              "  <svg xmlns=\"http://www.w3.org/2000/svg\" height=\"24px\"viewBox=\"0 0 24 24\"\n",
              "       width=\"24px\">\n",
              "    <path d=\"M0 0h24v24H0V0z\" fill=\"none\"/>\n",
              "    <path d=\"M18.56 5.44l.94 2.06.94-2.06 2.06-.94-2.06-.94-.94-2.06-.94 2.06-2.06.94zm-11 1L8.5 8.5l.94-2.06 2.06-.94-2.06-.94L8.5 2.5l-.94 2.06-2.06.94zm10 10l.94 2.06.94-2.06 2.06-.94-2.06-.94-.94-2.06-.94 2.06-2.06.94z\"/><path d=\"M17.41 7.96l-1.37-1.37c-.4-.4-.92-.59-1.43-.59-.52 0-1.04.2-1.43.59L10.3 9.45l-7.72 7.72c-.78.78-.78 2.05 0 2.83L4 21.41c.39.39.9.59 1.41.59.51 0 1.02-.2 1.41-.59l7.78-7.78 2.81-2.81c.8-.78.8-2.07 0-2.86zM5.41 20L4 18.59l7.72-7.72 1.47 1.35L5.41 20z\"/>\n",
              "  </svg>\n",
              "      </button>\n",
              "      \n",
              "  <style>\n",
              "    .colab-df-container {\n",
              "      display:flex;\n",
              "      flex-wrap:wrap;\n",
              "      gap: 12px;\n",
              "    }\n",
              "\n",
              "    .colab-df-convert {\n",
              "      background-color: #E8F0FE;\n",
              "      border: none;\n",
              "      border-radius: 50%;\n",
              "      cursor: pointer;\n",
              "      display: none;\n",
              "      fill: #1967D2;\n",
              "      height: 32px;\n",
              "      padding: 0 0 0 0;\n",
              "      width: 32px;\n",
              "    }\n",
              "\n",
              "    .colab-df-convert:hover {\n",
              "      background-color: #E2EBFA;\n",
              "      box-shadow: 0px 1px 2px rgba(60, 64, 67, 0.3), 0px 1px 3px 1px rgba(60, 64, 67, 0.15);\n",
              "      fill: #174EA6;\n",
              "    }\n",
              "\n",
              "    [theme=dark] .colab-df-convert {\n",
              "      background-color: #3B4455;\n",
              "      fill: #D2E3FC;\n",
              "    }\n",
              "\n",
              "    [theme=dark] .colab-df-convert:hover {\n",
              "      background-color: #434B5C;\n",
              "      box-shadow: 0px 1px 3px 1px rgba(0, 0, 0, 0.15);\n",
              "      filter: drop-shadow(0px 1px 2px rgba(0, 0, 0, 0.3));\n",
              "      fill: #FFFFFF;\n",
              "    }\n",
              "  </style>\n",
              "\n",
              "      <script>\n",
              "        const buttonEl =\n",
              "          document.querySelector('#df-d95a89ba-7ad6-4a8c-91d1-0adbedda5b4d button.colab-df-convert');\n",
              "        buttonEl.style.display =\n",
              "          google.colab.kernel.accessAllowed ? 'block' : 'none';\n",
              "\n",
              "        async function convertToInteractive(key) {\n",
              "          const element = document.querySelector('#df-d95a89ba-7ad6-4a8c-91d1-0adbedda5b4d');\n",
              "          const dataTable =\n",
              "            await google.colab.kernel.invokeFunction('convertToInteractive',\n",
              "                                                     [key], {});\n",
              "          if (!dataTable) return;\n",
              "\n",
              "          const docLinkHtml = 'Like what you see? Visit the ' +\n",
              "            '<a target=\"_blank\" href=https://colab.research.google.com/notebooks/data_table.ipynb>data table notebook</a>'\n",
              "            + ' to learn more about interactive tables.';\n",
              "          element.innerHTML = '';\n",
              "          dataTable['output_type'] = 'display_data';\n",
              "          await google.colab.output.renderOutput(dataTable, element);\n",
              "          const docLink = document.createElement('div');\n",
              "          docLink.innerHTML = docLinkHtml;\n",
              "          element.appendChild(docLink);\n",
              "        }\n",
              "      </script>\n",
              "    </div>\n",
              "  </div>\n",
              "  "
            ]
          },
          "metadata": {},
          "execution_count": 7
        }
      ],
      "source": [
        "dataset = pd.read_csv('/content/drive/MyDrive/data science/spam.csv', encoding='latin-1', usecols = ['v1', 'v2'])\n",
        "dataset.head()"
      ]
    },
    {
      "cell_type": "code",
      "execution_count": null,
      "id": "dbd1569c",
      "metadata": {
        "execution": {
          "iopub.execute_input": "2023-03-04T05:05:33.337957Z",
          "iopub.status.busy": "2023-03-04T05:05:33.336929Z",
          "iopub.status.idle": "2023-03-04T05:05:34.574282Z",
          "shell.execute_reply": "2023-03-04T05:05:34.573161Z"
        },
        "papermill": {
          "duration": 1.244842,
          "end_time": "2023-03-04T05:05:34.576454",
          "exception": false,
          "start_time": "2023-03-04T05:05:33.331612",
          "status": "completed"
        },
        "tags": [],
        "colab": {
          "base_uri": "https://localhost:8080/",
          "height": 299
        },
        "id": "dbd1569c",
        "outputId": "611a543c-add8-47b7-eae8-ac1b4651c233"
      },
      "outputs": [
        {
          "output_type": "display_data",
          "data": {
            "text/plain": [
              "<Figure size 432x288 with 1 Axes>"
            ],
            "image/png": "[encoded data removed]"
          },
          "metadata": {
            "needs_background": "light"
          }
        }
      ],
      "source": [
        "import seaborn as sns\n",
        "import matplotlib.pyplot as plt\n",
        "num_of_spam_ham = dataset['v1'].value_counts()\n",
        "num_of_spam_ham.plot(kind='bar')\n",
        "plt.title('Rate of spam vs ham')\n",
        "plt.ylabel('Count')\n",
        "plt.show()"
      ]
    },
    {
      "cell_type": "code",
      "execution_count": null,
      "id": "354187f5",
      "metadata": {
        "execution": {
          "iopub.execute_input": "2023-03-04T05:05:34.586153Z",
          "iopub.status.busy": "2023-03-04T05:05:34.585610Z",
          "iopub.status.idle": "2023-03-04T05:05:34.597675Z",
          "shell.execute_reply": "2023-03-04T05:05:34.596570Z"
        },
        "papermill": {
          "duration": 0.019603,
          "end_time": "2023-03-04T05:05:34.600153",
          "exception": false,
          "start_time": "2023-03-04T05:05:34.580550",
          "status": "completed"
        },
        "tags": [],
        "colab": {
          "base_uri": "https://localhost:8080/",
          "height": 206
        },
        "id": "354187f5",
        "outputId": "8a104ed4-4be8-41e5-ac18-8643c4075ba5"
      },
      "outputs": [
        {
          "output_type": "execute_result",
          "data": {
            "text/plain": [
              "   v1                                                 v2\n",
              "0   1  Go until jurong point, crazy.. Available only ...\n",
              "1   1                      Ok lar... Joking wif u oni...\n",
              "2   0  Free entry in 2 a wkly comp to win FA Cup fina...\n",
              "3   1  U dun say so early hor... U c already then say...\n",
              "4   1  Nah I don't think he goes to usf, he lives aro..."
            ],
            "text/html": [
              "\n",
              "  <div id=\"df-442f84f8-bc90-42bf-bd13-73cd15b949e3\">\n",
              "    <div class=\"colab-df-container\">\n",
              "      <div>\n",
              "<style scoped>\n",
              "    .dataframe tbody tr th:only-of-type {\n",
              "        vertical-align: middle;\n",
              "    }\n",
              "\n",
              "    .dataframe tbody tr th {\n",
              "        vertical-align: top;\n",
              "    }\n",
              "\n",
              "    .dataframe thead th {\n",
              "        text-align: right;\n",
              "    }\n",
              "</style>\n",
              "<table border=\"1\" class=\"dataframe\">\n",
              "  <thead>\n",
              "    <tr style=\"text-align: right;\">\n",
              "      <th></th>\n",
              "      <th>v1</th>\n",
              "      <th>v2</th>\n",
              "    </tr>\n",
              "  </thead>\n",
              "  <tbody>\n",
              "    <tr>\n",
              "      <th>0</th>\n",
              "      <td>1</td>\n",
              "      <td>Go until jurong point, crazy.. Available only ...</td>\n",
              "    </tr>\n",
              "    <tr>\n",
              "      <th>1</th>\n",
              "      <td>1</td>\n",
              "      <td>Ok lar... Joking wif u oni...</td>\n",
              "    </tr>\n",
              "    <tr>\n",
              "      <th>2</th>\n",
              "      <td>0</td>\n",
              "      <td>Free entry in 2 a wkly comp to win FA Cup fina...</td>\n",
              "    </tr>\n",
              "    <tr>\n",
              "      <th>3</th>\n",
              "      <td>1</td>\n",
              "      <td>U dun say so early hor... U c already then say...</td>\n",
              "    </tr>\n",
              "    <tr>\n",
              "      <th>4</th>\n",
              "      <td>1</td>\n",
              "      <td>Nah I don't think he goes to usf, he lives aro...</td>\n",
              "    </tr>\n",
              "  </tbody>\n",
              "</table>\n",
              "</div>\n",
              "      <button class=\"colab-df-convert\" onclick=\"convertToInteractive('df-442f84f8-bc90-42bf-bd13-73cd15b949e3')\"\n",
              "              title=\"Convert this dataframe to an interactive table.\"\n",
              "              style=\"display:none;\">\n",
              "        \n",
              "  <svg xmlns=\"http://www.w3.org/2000/svg\" height=\"24px\"viewBox=\"0 0 24 24\"\n",
              "       width=\"24px\">\n",
              "    <path d=\"M0 0h24v24H0V0z\" fill=\"none\"/>\n",
              "    <path d=\"M18.56 5.44l.94 2.06.94-2.06 2.06-.94-2.06-.94-.94-2.06-.94 2.06-2.06.94zm-11 1L8.5 8.5l.94-2.06 2.06-.94-2.06-.94L8.5 2.5l-.94 2.06-2.06.94zm10 10l.94 2.06.94-2.06 2.06-.94-2.06-.94-.94-2.06-.94 2.06-2.06.94z\"/><path d=\"M17.41 7.96l-1.37-1.37c-.4-.4-.92-.59-1.43-.59-.52 0-1.04.2-1.43.59L10.3 9.45l-7.72 7.72c-.78.78-.78 2.05 0 2.83L4 21.41c.39.39.9.59 1.41.59.51 0 1.02-.2 1.41-.59l7.78-7.78 2.81-2.81c.8-.78.8-2.07 0-2.86zM5.41 20L4 18.59l7.72-7.72 1.47 1.35L5.41 20z\"/>\n",
              "  </svg>\n",
              "      </button>\n",
              "      \n",
              "  <style>\n",
              "    .colab-df-container {\n",
              "      display:flex;\n",
              "      flex-wrap:wrap;\n",
              "      gap: 12px;\n",
              "    }\n",
              "\n",
              "    .colab-df-convert {\n",
              "      background-color: #E8F0FE;\n",
              "      border: none;\n",
              "      border-radius: 50%;\n",
              "      cursor: pointer;\n",
              "      display: none;\n",
              "      fill: #1967D2;\n",
              "      height: 32px;\n",
              "      padding: 0 0 0 0;\n",
              "      width: 32px;\n",
              "    }\n",
              "\n",
              "    .colab-df-convert:hover {\n",
              "      background-color: #E2EBFA;\n",
              "      box-shadow: 0px 1px 2px rgba(60, 64, 67, 0.3), 0px 1px 3px 1px rgba(60, 64, 67, 0.15);\n",
              "      fill: #174EA6;\n",
              "    }\n",
              "\n",
              "    [theme=dark] .colab-df-convert {\n",
              "      background-color: #3B4455;\n",
              "      fill: #D2E3FC;\n",
              "    }\n",
              "\n",
              "    [theme=dark] .colab-df-convert:hover {\n",
              "      background-color: #434B5C;\n",
              "      box-shadow: 0px 1px 3px 1px rgba(0, 0, 0, 0.15);\n",
              "      filter: drop-shadow(0px 1px 2px rgba(0, 0, 0, 0.3));\n",
              "      fill: #FFFFFF;\n",
              "    }\n",
              "  </style>\n",
              "\n",
              "      <script>\n",
              "        const buttonEl =\n",
              "          document.querySelector('#df-442f84f8-bc90-42bf-bd13-73cd15b949e3 button.colab-df-convert');\n",
              "        buttonEl.style.display =\n",
              "          google.colab.kernel.accessAllowed ? 'block' : 'none';\n",
              "\n",
              "        async function convertToInteractive(key) {\n",
              "          const element = document.querySelector('#df-442f84f8-bc90-42bf-bd13-73cd15b949e3');\n",
              "          const dataTable =\n",
              "            await google.colab.kernel.invokeFunction('convertToInteractive',\n",
              "                                                     [key], {});\n",
              "          if (!dataTable) return;\n",
              "\n",
              "          const docLinkHtml = 'Like what you see? Visit the ' +\n",
              "            '<a target=\"_blank\" href=https://colab.research.google.com/notebooks/data_table.ipynb>data table notebook</a>'\n",
              "            + ' to learn more about interactive tables.';\n",
              "          element.innerHTML = '';\n",
              "          dataTable['output_type'] = 'display_data';\n",
              "          await google.colab.output.renderOutput(dataTable, element);\n",
              "          const docLink = document.createElement('div');\n",
              "          docLink.innerHTML = docLinkHtml;\n",
              "          element.appendChild(docLink);\n",
              "        }\n",
              "      </script>\n",
              "    </div>\n",
              "  </div>\n",
              "  "
            ]
          },
          "metadata": {},
          "execution_count": 9
        }
      ],
      "source": [
        "dataset['v1'].replace({'ham':1,'spam':0}, inplace=True)\n",
        "dataset.head()"
      ]
    },
    {
      "cell_type": "code",
      "execution_count": null,
      "id": "edfe1136",
      "metadata": {
        "execution": {
          "iopub.execute_input": "2023-03-04T05:05:34.609795Z",
          "iopub.status.busy": "2023-03-04T05:05:34.609084Z",
          "iopub.status.idle": "2023-03-04T05:05:35.436785Z",
          "shell.execute_reply": "2023-03-04T05:05:35.435522Z"
        },
        "papermill": {
          "duration": 0.83489,
          "end_time": "2023-03-04T05:05:35.439287",
          "exception": false,
          "start_time": "2023-03-04T05:05:34.604397",
          "status": "completed"
        },
        "tags": [],
        "colab": {
          "base_uri": "https://localhost:8080/"
        },
        "id": "edfe1136",
        "outputId": "345bed4f-afde-49d0-b51c-60d1bbd37670"
      },
      "outputs": [
        {
          "output_type": "stream",
          "name": "stderr",
          "text": [
            "[nltk_data] Downloading package stopwords to /root/nltk_data...\n",
            "[nltk_data]   Unzipping corpora/stopwords.zip.\n"
          ]
        }
      ],
      "source": [
        "import nltk\n",
        "import re\n",
        "nltk.download('stopwords')\n",
        "from nltk.corpus import stopwords\n",
        "from nltk.stem.porter import PorterStemmer"
      ]
    },
    {
      "cell_type": "code",
      "execution_count": null,
      "id": "399ffe6e",
      "metadata": {
        "execution": {
          "iopub.execute_input": "2023-03-04T05:05:35.450079Z",
          "iopub.status.busy": "2023-03-04T05:05:35.449745Z",
          "iopub.status.idle": "2023-03-04T05:05:38.299495Z",
          "shell.execute_reply": "2023-03-04T05:05:38.298333Z"
        },
        "papermill": {
          "duration": 2.857964,
          "end_time": "2023-03-04T05:05:38.302080",
          "exception": false,
          "start_time": "2023-03-04T05:05:35.444116",
          "status": "completed"
        },
        "tags": [],
        "id": "399ffe6e"
      },
      "outputs": [],
      "source": [
        "corpus = []\n",
        "for i in range(0,len(dataset)):\n",
        "    text = re.sub('[^a-zA-Z]', ' ', dataset['v2'][i])\n",
        "    text = re.sub('http://\\S+|https://\\S+', ' ', dataset['v2'][i])\n",
        "    text = text.lower()\n",
        "    text = text.split()\n",
        "    ps = PorterStemmer()\n",
        "    all_stopwords = stopwords.words('english')\n",
        "    all_stopwords.remove('not')\n",
        "    text = [ps.stem(word) for word in text if not word in list(all_stopwords)]\n",
        "    text = ' '.join(text)\n",
        "    corpus.append(text)"
      ]
    },
    {
      "cell_type": "code",
      "execution_count": null,
      "id": "c44c91e8",
      "metadata": {
        "execution": {
          "iopub.execute_input": "2023-03-04T05:05:38.313877Z",
          "iopub.status.busy": "2023-03-04T05:05:38.312600Z",
          "iopub.status.idle": "2023-03-04T05:05:38.319878Z",
          "shell.execute_reply": "2023-03-04T05:05:38.318870Z"
        },
        "papermill": {
          "duration": 0.015187,
          "end_time": "2023-03-04T05:05:38.322229",
          "exception": false,
          "start_time": "2023-03-04T05:05:38.307042",
          "status": "completed"
        },
        "tags": [],
        "colab": {
          "base_uri": "https://localhost:8080/"
        },
        "id": "c44c91e8",
        "outputId": "2d7c4c5d-57fb-4072-f17b-d6f3719e5f1a"
      },
      "outputs": [
        {
          "output_type": "execute_result",
          "data": {
            "text/plain": [
              "['go jurong point, crazy.. avail bugi n great world la e buffet... cine got amor wat...',\n",
              " 'ok lar... joke wif u oni...',\n",
              " \"free entri 2 wkli comp win fa cup final tkt 21st may 2005. text fa 87121 receiv entri question(std txt rate)t&c' appli 08452810075over18'\",\n",
              " 'u dun say earli hor... u c alreadi say...',\n",
              " 'nah think goe usf, live around though']"
            ]
          },
          "metadata": {},
          "execution_count": 12
        }
      ],
      "source": [
        "corpus[:5]"
      ]
    },
    {
      "cell_type": "code",
      "execution_count": null,
      "id": "fe36386e",
      "metadata": {
        "execution": {
          "iopub.execute_input": "2023-03-04T05:05:38.333592Z",
          "iopub.status.busy": "2023-03-04T05:05:38.332630Z",
          "iopub.status.idle": "2023-03-04T05:05:38.495393Z",
          "shell.execute_reply": "2023-03-04T05:05:38.494261Z"
        },
        "papermill": {
          "duration": 0.171445,
          "end_time": "2023-03-04T05:05:38.497938",
          "exception": false,
          "start_time": "2023-03-04T05:05:38.326493",
          "status": "completed"
        },
        "tags": [],
        "colab": {
          "base_uri": "https://localhost:8080/"
        },
        "id": "fe36386e",
        "outputId": "cc047c86-f868-45a6-d844-5877ba86eca3"
      },
      "outputs": [
        {
          "output_type": "execute_result",
          "data": {
            "text/plain": [
              "array([[0, 0, 0, 0, 0, 0, 0, 0, 0, 0],\n",
              "       [0, 0, 0, 0, 0, 0, 0, 0, 0, 0],\n",
              "       [0, 0, 0, 0, 0, 0, 0, 0, 0, 0],\n",
              "       [0, 0, 0, 0, 0, 0, 0, 0, 0, 0],\n",
              "       [0, 0, 0, 0, 0, 0, 0, 0, 0, 0],\n",
              "       [0, 0, 0, 0, 0, 0, 0, 0, 0, 0],\n",
              "       [0, 0, 0, 0, 0, 0, 0, 0, 0, 0],\n",
              "       [0, 0, 0, 0, 0, 0, 0, 0, 0, 0],\n",
              "       [0, 0, 0, 0, 0, 0, 0, 0, 0, 0],\n",
              "       [0, 0, 0, 0, 0, 0, 0, 0, 0, 0]])"
            ]
          },
          "metadata": {},
          "execution_count": 13
        }
      ],
      "source": [
        "from sklearn.feature_extraction.text import CountVectorizer\n",
        "cv = CountVectorizer(max_features=8300)\n",
        "X = cv.fit_transform(corpus).toarray()\n",
        "y = dataset.iloc[:,0].values\n",
        "X[:10,:10]"
      ]
    },
    {
      "cell_type": "code",
      "execution_count": null,
      "id": "5e493946",
      "metadata": {
        "execution": {
          "iopub.execute_input": "2023-03-04T05:05:38.508676Z",
          "iopub.status.busy": "2023-03-04T05:05:38.508250Z",
          "iopub.status.idle": "2023-03-04T05:05:38.696173Z",
          "shell.execute_reply": "2023-03-04T05:05:38.695141Z"
        },
        "papermill": {
          "duration": 0.196041,
          "end_time": "2023-03-04T05:05:38.698899",
          "exception": false,
          "start_time": "2023-03-04T05:05:38.502858",
          "status": "completed"
        },
        "tags": [],
        "id": "5e493946"
      },
      "outputs": [],
      "source": [
        "from sklearn.model_selection import train_test_split\n",
        "X_train, X_test, y_train, y_test = train_test_split(X, y, test_size=0.2,random_state=0)"
      ]
    },
    {
      "cell_type": "code",
      "execution_count": null,
      "id": "721e2a7d",
      "metadata": {
        "execution": {
          "iopub.execute_input": "2023-03-04T05:05:38.709972Z",
          "iopub.status.busy": "2023-03-04T05:05:38.709652Z",
          "iopub.status.idle": "2023-03-04T05:05:46.290675Z",
          "shell.execute_reply": "2023-03-04T05:05:46.289402Z"
        },
        "papermill": {
          "duration": 7.589879,
          "end_time": "2023-03-04T05:05:46.293612",
          "exception": false,
          "start_time": "2023-03-04T05:05:38.703733",
          "status": "completed"
        },
        "tags": [],
        "id": "721e2a7d"
      },
      "outputs": [],
      "source": [
        "import keras\n",
        "from keras.models import Sequential\n",
        "from keras.layers import Dense, Dropout"
      ]
    },
    {
      "cell_type": "code",
      "execution_count": null,
      "id": "a24434d5",
      "metadata": {
        "execution": {
          "iopub.execute_input": "2023-03-04T05:05:46.306614Z",
          "iopub.status.busy": "2023-03-04T05:05:46.304473Z",
          "iopub.status.idle": "2023-03-04T05:06:11.866425Z",
          "shell.execute_reply": "2023-03-04T05:06:11.865153Z"
        },
        "papermill": {
          "duration": 25.570485,
          "end_time": "2023-03-04T05:06:11.868902",
          "exception": false,
          "start_time": "2023-03-04T05:05:46.298417",
          "status": "completed"
        },
        "tags": [],
        "colab": {
          "base_uri": "https://localhost:8080/"
        },
        "id": "a24434d5",
        "outputId": "731bd130-fbee-4853-c9eb-a9ee569afbe7"
      },
      "outputs": [
        {
          "output_type": "stream",
          "name": "stdout",
          "text": [
            "Epoch 1/20\n",
            "90/90 [==============================] - 40s 423ms/step - loss: 0.1965 - accuracy: 0.9379\n",
            "Epoch 2/20\n",
            "90/90 [==============================] - 36s 402ms/step - loss: 0.0160 - accuracy: 0.9971\n",
            "Epoch 3/20\n",
            "90/90 [==============================] - 38s 422ms/step - loss: 0.0020 - accuracy: 0.9989\n",
            "Epoch 4/20\n",
            "90/90 [==============================] - 36s 404ms/step - loss: 0.0046 - accuracy: 0.9993\n",
            "Epoch 5/20\n",
            "90/90 [==============================] - 38s 418ms/step - loss: 8.0443e-04 - accuracy: 0.9998\n",
            "Epoch 6/20\n",
            "90/90 [==============================] - 38s 424ms/step - loss: 1.3760e-04 - accuracy: 1.0000\n",
            "Epoch 7/20\n",
            "90/90 [==============================] - 36s 404ms/step - loss: 2.8288e-05 - accuracy: 1.0000\n",
            "Epoch 8/20\n",
            "90/90 [==============================] - 42s 472ms/step - loss: 1.0968e-05 - accuracy: 1.0000\n",
            "Epoch 9/20\n",
            "90/90 [==============================] - 39s 432ms/step - loss: 7.0414e-06 - accuracy: 1.0000\n",
            "Epoch 10/20\n",
            "90/90 [==============================] - 37s 417ms/step - loss: 1.5085e-05 - accuracy: 1.0000\n",
            "Epoch 11/20\n",
            "90/90 [==============================] - 38s 418ms/step - loss: 6.4586e-06 - accuracy: 1.0000\n",
            "Epoch 12/20\n",
            "90/90 [==============================] - 38s 423ms/step - loss: 2.6950e-06 - accuracy: 1.0000\n",
            "Epoch 13/20\n",
            "90/90 [==============================] - 36s 404ms/step - loss: 3.4577e-06 - accuracy: 1.0000\n",
            "Epoch 14/20\n",
            "90/90 [==============================] - 38s 424ms/step - loss: 1.4987e-06 - accuracy: 1.0000\n",
            "Epoch 15/20\n",
            "90/90 [==============================] - 36s 405ms/step - loss: 1.8271e-06 - accuracy: 1.0000\n",
            "Epoch 16/20\n",
            "90/90 [==============================] - 50s 557ms/step - loss: 3.1626e-06 - accuracy: 1.0000\n",
            "Epoch 17/20\n",
            "90/90 [==============================] - 38s 417ms/step - loss: 2.7318e-06 - accuracy: 1.0000\n",
            "Epoch 18/20\n",
            "90/90 [==============================] - 39s 433ms/step - loss: 1.7345e-06 - accuracy: 1.0000\n",
            "Epoch 19/20\n",
            "90/90 [==============================] - 39s 434ms/step - loss: 2.4230e-06 - accuracy: 1.0000\n",
            "Epoch 20/20\n",
            "90/90 [==============================] - 38s 417ms/step - loss: 1.9322e-06 - accuracy: 1.0000\n"
          ]
        },
        {
          "output_type": "execute_result",
          "data": {
            "text/plain": [
              "<keras.callbacks.History at 0x7f6d5b560550>"
            ]
          },
          "metadata": {},
          "execution_count": 17
        }
      ],
      "source": [
        "model = Sequential()\n",
        "model.add(Dense(units=2000, activation='relu'))\n",
        "model.add(Dense(units=1500, activation='relu'))\n",
        "model.add(Dropout(0.8))\n",
        "model.add(Dense(units=1000, activation='relu'))\n",
        "model.add(Dense(units=500, activation='relu'))\n",
        "model.add(Dense(units=1, activation='sigmoid'))\n",
        "model.compile(optimizer='adam', loss='binary_crossentropy', metrics=['accuracy'])\n",
        "model.fit(X_train,y_train,batch_size=50,epochs=20)"
      ]
    },
    {
      "cell_type": "code",
      "execution_count": null,
      "id": "0178e728",
      "metadata": {
        "execution": {
          "iopub.execute_input": "2023-03-04T05:06:11.917956Z",
          "iopub.status.busy": "2023-03-04T05:06:11.917051Z",
          "iopub.status.idle": "2023-03-04T05:06:12.507716Z",
          "shell.execute_reply": "2023-03-04T05:06:12.506565Z"
        },
        "papermill": {
          "duration": 0.617568,
          "end_time": "2023-03-04T05:06:12.510421",
          "exception": false,
          "start_time": "2023-03-04T05:06:11.892853",
          "status": "completed"
        },
        "tags": [],
        "colab": {
          "base_uri": "https://localhost:8080/"
        },
        "id": "0178e728",
        "outputId": "bf6b3e6a-2832-4022-da11-d00e02e7b67b"
      },
      "outputs": [
        {
          "output_type": "stream",
          "name": "stdout",
          "text": [
            "35/35 [==============================] - 3s 88ms/step\n"
          ]
        }
      ],
      "source": [
        "y_pred = model.predict(X_test)\n",
        "y_pred = (y_pred>0.5)"
      ]
    },
    {
      "cell_type": "code",
      "execution_count": null,
      "id": "e879aa43",
      "metadata": {
        "execution": {
          "iopub.execute_input": "2023-03-04T05:06:12.561968Z",
          "iopub.status.busy": "2023-03-04T05:06:12.561616Z",
          "iopub.status.idle": "2023-03-04T05:06:12.571888Z",
          "shell.execute_reply": "2023-03-04T05:06:12.570499Z"
        },
        "papermill": {
          "duration": 0.038931,
          "end_time": "2023-03-04T05:06:12.575078",
          "exception": false,
          "start_time": "2023-03-04T05:06:12.536147",
          "status": "completed"
        },
        "tags": [],
        "colab": {
          "base_uri": "https://localhost:8080/"
        },
        "id": "e879aa43",
        "outputId": "77b43850-642e-488b-ef0e-0192c3a2b357"
      },
      "outputs": [
        {
          "output_type": "stream",
          "name": "stdout",
          "text": [
            "0.9838565022421525\n"
          ]
        }
      ],
      "source": [
        "from sklearn.metrics import accuracy_score, confusion_matrix, ConfusionMatrixDisplay\n",
        "accuracy = accuracy_score(y_test, y_pred)\n",
        "cm = confusion_matrix(y_test, y_pred)\n",
        "print(accuracy)"
      ]
    },
    {
      "cell_type": "code",
      "execution_count": null,
      "id": "e4ffc394",
      "metadata": {
        "execution": {
          "iopub.execute_input": "2023-03-04T05:06:12.623795Z",
          "iopub.status.busy": "2023-03-04T05:06:12.622853Z",
          "iopub.status.idle": "2023-03-04T05:06:12.899107Z",
          "shell.execute_reply": "2023-03-04T05:06:12.898051Z"
        },
        "papermill": {
          "duration": 0.302865,
          "end_time": "2023-03-04T05:06:12.901732",
          "exception": false,
          "start_time": "2023-03-04T05:06:12.598867",
          "status": "completed"
        },
        "tags": [],
        "colab": {
          "base_uri": "https://localhost:8080/",
          "height": 296
        },
        "id": "e4ffc394",
        "outputId": "0f1d1313-bc36-49ae-c2f1-4979cd7ae44b"
      },
      "outputs": [
        {
          "output_type": "execute_result",
          "data": {
            "text/plain": [
              "<sklearn.metrics._plot.confusion_matrix.ConfusionMatrixDisplay at 0x7f6d7c24bfd0>"
            ]
          },
          "metadata": {},
          "execution_count": 20
        },
        {
          "output_type": "display_data",
          "data": {
            "text/plain": [
              "<Figure size 432x288 with 2 Axes>"
            ],
            "image/png": "[encoded data removed]"
          },
          "metadata": {
            "needs_background": "light"
          }
        }
      ],
      "source": [
        "import matplotlib.pyplot as plt\n",
        "confusion_show = ConfusionMatrixDisplay(confusion_matrix=cm)\n",
        "confusion_show.plot()"
      ]
    }
  ],
  "metadata": {
    "kernelspec": {
      "display_name": "Python 3",
      "language": "python",
      "name": "python3"
    },
    "language_info": {
      "codemirror_mode": {
        "name": "ipython",
        "version": 3
      },
      "file_extension": ".py",
      "mimetype": "text/x-python",
      "name": "python",
      "nbconvert_exporter": "python",
      "pygments_lexer": "ipython3",
      "version": "3.7.12"
    },
    "papermill": {
      "default_parameters": {},
      "duration": 54.076168,
      "end_time": "2023-03-04T05:06:16.537100",
      "environment_variables": {},
      "exception": null,
      "input_path": "__notebook__.ipynb",
      "output_path": "__notebook__.ipynb",
      "parameters": {},
      "start_time": "2023-03-04T05:05:22.460932",
      "version": "2.4.0"
    },
    "colab": {
      "provenance": [],
      "include_colab_link": true
    }
  },
  "nbformat": 4,
  "nbformat_minor": 5
}